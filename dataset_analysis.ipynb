{
 "cells": [
  {
   "cell_type": "markdown",
   "metadata": {},
   "source": []
  },
  {
   "cell_type": "code",
   "execution_count": 1,
   "metadata": {},
   "outputs": [],
   "source": [
    "import pandas as pd\n",
    "from ete3 import NCBITaxa\n",
    "import tabulate\n",
    "import numpy as np\n",
    "import os"
   ]
  },
  {
   "cell_type": "code",
   "execution_count": 2,
   "metadata": {},
   "outputs": [],
   "source": [
    "ncbi = NCBITaxa()\n",
    "data_directory = \"centrifuge_data/\""
   ]
  },
  {
   "cell_type": "code",
   "execution_count": 3,
   "metadata": {},
   "outputs": [],
   "source": [
    "import os\n",
    "import pandas as pd\n",
    "\n",
    "dfs = []\n",
    "file_names = []\n",
    "\n",
    "for filename in os.listdir(data_directory):\n",
    "    # Check if the file starts with \"centrifuge\" and ends with \".csv\"\n",
    "    if filename.startswith(\"centrifuge\") and filename.endswith(\".csv\"):\n",
    "        name = filename.split('_')[2].split('.')[0] \n",
    "        \n",
    "        df = pd.read_csv(os.path.join(data_directory, filename), sep=',')\n",
    "        \n",
    "        dfs.append(df)\n",
    "        file_names.append(name)"
   ]
  },
  {
   "cell_type": "code",
   "execution_count": 4,
   "metadata": {},
   "outputs": [],
   "source": [
    "# Extract and save the column names of each DataFrame into a NumPy array\n",
    "taxs = [np.array(df.keys()[1:]) for df in dfs]"
   ]
  },
  {
   "cell_type": "code",
   "execution_count": 5,
   "metadata": {},
   "outputs": [],
   "source": [
    "names = [ncbi.get_taxid_translator(tax) for tax in taxs]"
   ]
  },
  {
   "cell_type": "code",
   "execution_count": 7,
   "metadata": {},
   "outputs": [],
   "source": [
    "id_df = []\n",
    "for name_index, name in enumerate(names):\n",
    "    df = pd.DataFrame(list(name.items()), columns=['taxID', 'Organism'])\n",
    "\n",
    "    # Optionally, set the 'ID' column as the index\n",
    "    df.set_index('taxID', inplace=True)\n",
    "\n",
    "    # Save the DataFrame to a CSV file\n",
    "    df.to_csv(f'tax_id/{file_names[name_index]}.csv')\n",
    "    id_df.append(df)\n"
   ]
  }
 ],
 "metadata": {
  "kernelspec": {
   "display_name": "bs_env_project",
   "language": "python",
   "name": "python3"
  },
  "language_info": {
   "codemirror_mode": {
    "name": "ipython",
    "version": 3
   },
   "file_extension": ".py",
   "mimetype": "text/x-python",
   "name": "python",
   "nbconvert_exporter": "python",
   "pygments_lexer": "ipython3",
   "version": "3.9.18"
  }
 },
 "nbformat": 4,
 "nbformat_minor": 2
}
